{
 "cells": [
  {
   "cell_type": "code",
   "execution_count": null,
   "id": "8e088c10-6f92-4c11-ac27-dc32dcbcbdf3",
   "metadata": {},
   "outputs": [],
   "source": [
    "import pandas as pd\n",
    "import numpy as np\n",
    "import matplotlib.pyplot as plt\n",
    "import seaborn as sns\n",
    "import folium\n",
    "import plotly"
   ]
  },
  {
   "cell_type": "code",
   "execution_count": null,
   "id": "1dc92b7d-1650-4825-bb98-3f62ae6c969f",
   "metadata": {},
   "outputs": [],
   "source": []
  },
  {
   "cell_type": "code",
   "execution_count": 1,
   "id": "58563f5d-acc7-4c84-8821-e26f38d35dea",
   "metadata": {},
   "outputs": [],
   "source": [
    "# function for loading specific invidual PLT file given file_path\n",
    "def load_plt_file(file_path):\n",
    "\n",
    "    # load file as df while skipping first six rows (unneeded header info)\n",
    "    plt_df = pd.read_csv(file_path, skiprows = 6, header = None)\n",
    "\n",
    "    # assign columns\n",
    "    plt_df.columns = [\n",
    "        'latitude',\n",
    "        'longitude', \n",
    "        'zero_field',\n",
    "        'altitude_ft',\n",
    "        'date_days',\n",
    "        'date_string',\n",
    "        'time_string'\n",
    "    ]\n",
    "\n",
    "    return plt_df"
   ]
  },
  {
   "cell_type": "code",
   "execution_count": null,
   "id": "0d2c7ff0-6635-487d-b38b-b291cef9b76c",
   "metadata": {},
   "outputs": [],
   "source": [
    "# function for basic scatterplot with matplotlib\n",
    "def trajectory_scatterplot(file_path, figsize = (12, 8), line_color = 'blue', point_size = 10):\n",
    "\n",
    "    # read plt data as df\n",
    "    df = load_plt_file(file_path)\n",
    "\n",
    "    # create visualizatio\n",
    "    plt.figure(figsize = figsize)\n",
    "    plt.plot(df['longitude'], df['latitude'], f'{line_color}-', linewidth = 1, alpha = 0.7)\n",
    "    scatter = plt.scatter(df['longitude'], df['latitude'], c = df['altitude'], cmap = 'viridis', s = point_size, alpha = 0.7)\n",
    "\n",
    "    # customize\n",
    "    plt.colorbar(scatter, label = 'Altitude (meters)')\n",
    "    plt.xlabel('Longitude')\n",
    "    plt.ylabel('Latitude')\n",
    "    plt.title('Geolife Trajectory Scatterplot')\n",
    "    plt.grid(True, alpha = 0.3)\n",
    "\n",
    "    plt.show()"
   ]
  }
 ],
 "metadata": {
  "kernelspec": {
   "display_name": "Python 3 (ipykernel)",
   "language": "python",
   "name": "python3"
  },
  "language_info": {
   "codemirror_mode": {
    "name": "ipython",
    "version": 3
   },
   "file_extension": ".py",
   "mimetype": "text/x-python",
   "name": "python",
   "nbconvert_exporter": "python",
   "pygments_lexer": "ipython3",
   "version": "3.13.5"
  }
 },
 "nbformat": 4,
 "nbformat_minor": 5
}
